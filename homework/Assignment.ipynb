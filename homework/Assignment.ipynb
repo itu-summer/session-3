{
 "cells": [
  {
   "cell_type": "markdown",
   "metadata": {},
   "source": [
    "# Think about how smart you'll be when you complete this....\n",
    "\n",
    "In this assignment you will work with lists, loops, and functions."
   ]
  },
  {
   "cell_type": "markdown",
   "metadata": {},
   "source": [
    "## Assignment 1/3\n",
    "\n",
    "Writing word counter functions.\n",
    "\n",
    "  * Write a function for a word counter that counts the occurrence of all words in the text.\n",
    "    - _Hint_: Adapt the code from the lecture, which used a dictionary with default values to count all letters in a paragraph.\n",
    "  \n",
    "  * Write an alternative word counter using the `list`'s `count` method.\n",
    "    - _Hint_: The following illustrates the application of the `count` method for different words and the text below.\n",
    "    \n",
    "    ```python\n",
    "    print(text.count('Irene'))\n",
    "    print(text.count('love'))\n",
    "    print(text.count('Holmes'))\n",
    "    2\n",
    "    2\n",
    "    1\n",
    "    ```"
   ]
  },
  {
   "cell_type": "code",
   "execution_count": null,
   "metadata": {},
   "outputs": [],
   "source": [
    "text = '''\n",
    "To Sherlock Holmes she is always the woman. I have seldom heard him\n",
    "mention her under any other name. In his eyes she eclipses and\n",
    "predominates the whole of her sex. It was not that he felt any\n",
    "emotion akin to love for Irene Adler. All emotions, and that one\n",
    "particularly, were abhorrent to his cold, precise but admirably\n",
    "balanced mind. He was, I take it, the most perfect reasoning and\n",
    "observing machine that the world has seen, but as a lover he would\n",
    "have placed himself in a false position. He never spoke of the softer\n",
    "passions, save with a gibe and a sneer. They were admirable things\n",
    "for the observer--excellent for drawing the veil from men's motives\n",
    "and actions. But for the trained reasoner to admit such intrusions\n",
    "into his own delicate and finely adjusted temperament was to\n",
    "introduce a distracting factor which might throw a doubt upon all his\n",
    "mental results. Grit in a sensitive instrument, or a crack in one of\n",
    "his own high-power lenses, would not be more disturbing than a strong\n",
    "emotion in a nature such as his. And yet there was but one woman to\n",
    "him, and that woman was the late Irene Adler, of dubious and\n",
    "questionable memory.  '''"
   ]
  },
  {
   "cell_type": "code",
   "execution_count": null,
   "metadata": {},
   "outputs": [],
   "source": []
  },
  {
   "cell_type": "markdown",
   "metadata": {},
   "source": [
    "## Assignment 2/3\n",
    "\n",
    "Write a \"name finder\" function.\n",
    "\n",
    "  1. Start by writing a function that finds and returns all capitalized words in a text, e.g., candidates for names.\n",
    "    - _Hint_: Remember that you can find a list of capital letters in the variable `string.ascii_uppercase` from the `string` module.\n",
    "    - _Hint_: Or remember that you can use a string's `title` method to create a capitalized word, e.g., `'hello'.title()`\n",
    "  * Extend the above function so that it excludes all words in the beginning of a sentence. That is, it excludes all words following a `.` where the 'word' in front of the `.` is neither `Mr`, `Mrs`, `Mme`, `Ms`, etc.\n",
    "  * Extend the above program to count the ten most used names in the Sherlock Holmes stories given to you in the modules.\n",
    "  \n",
    " \n"
   ]
  },
  {
   "cell_type": "code",
   "execution_count": null,
   "metadata": {},
   "outputs": [],
   "source": []
  },
  {
   "cell_type": "markdown",
   "metadata": {},
   "source": [
    "_Hint_: Start writing your functions with the text in the variable `text` above. As soon as you are confident that it works try it with the texts of either _\"A Study in Scarlet\"_ or _\"The Hound of the Baskervilles\"_ which are given in the modules `a_study_in_scarlet` and `the_hound_of_the_baskervilles` respectively.\n",
    "  \n",
    "Both modules provide a constant `CONTENTS` containing a list of chapters, which in turn consist of lists of paragraphs.\n",
    "\n",
    "Play with the following code to better understand the data in `CONTENTS`."
   ]
  },
  {
   "cell_type": "code",
   "execution_count": null,
   "metadata": {},
   "outputs": [],
   "source": [
    "from a_study_in_scarlet import CONTENTS\n",
    "\n",
    "\n",
    "for chap in CONTENTS[:3]:\n",
    "    print(chap[:2])"
   ]
  },
  {
   "cell_type": "markdown",
   "metadata": {},
   "source": [
    "## Assignment 3/3\n",
    "\n",
    "\n",
    "This is the practice project \"Character Picture Grid\" from chapter four of _\"Atomate the Boring Stuff with Python\"_, see bottom of http://automatetheboringstuff.com/chapter4/\n",
    "\n",
    "Say you have a list of lists where each value in the inner lists is a one-character string, like this:"
   ]
  },
  {
   "cell_type": "code",
   "execution_count": null,
   "metadata": {},
   "outputs": [],
   "source": [
    "grid = [['.', '.', '.', '.', '.', '.'],\n",
    "        ['.', 'O', 'O', '.', '.', '.'],\n",
    "        ['O', 'O', 'O', 'O', '.', '.'],\n",
    "        ['O', 'O', 'O', 'O', 'O', '.'],\n",
    "        ['.', 'O', 'O', 'O', 'O', 'O'],\n",
    "        ['O', 'O', 'O', 'O', 'O', '.'],\n",
    "        ['O', 'O', 'O', 'O', '.', '.'],\n",
    "        ['.', 'O', 'O', '.', '.', '.'],\n",
    "        ['.', '.', '.', '.', '.', '.']]"
   ]
  },
  {
   "cell_type": "markdown",
   "metadata": {},
   "source": [
    "You can think of `grid[x][y]` as being the character at the x- and y-coordinates of a \"picture\" drawn with text characters. The (0, 0) origin will be in the upper-left corner, the x-coordinates increase going right, and the y-coordinates increase going down.\n",
    "\n",
    "Use the previous grid value, and write a function that uses it to print the image like so:\n",
    "\n",
    "```\n",
    "..OO.OO..\n",
    ".OOOOOOO.\n",
    ".OOOOOOO.\n",
    "..OOOOO..\n",
    "...OOO...\n",
    "....O....\n",
    "```\n",
    "\n",
    "_Hint_: You will need to use a loop in a loop in order to print `grid[0][0]`, then `grid[1][0]`, then `grid[2][0]`, and so on, up to `grid[8][0]`. This will finish the first row, so then print a newline. Then your program should print `grid[0][1]`, then `grid[1][1]`, then `grid[2][1]`, and so on. The last thing your program will print is `grid[8][5]`.\n",
    "\n",
    "Also, remember to pass the end keyword argument to `print()` if you do not want a newline printed automatically after each `print()` call."
   ]
  },
  {
   "cell_type": "code",
   "execution_count": null,
   "metadata": {},
   "outputs": [],
   "source": []
  },
  {
   "cell_type": "markdown",
   "metadata": {},
   "source": [
    "## Assignment 4/3 - Challange\n",
    "\n",
    "This task is strictly not necessary for you to complete, but recommended. Hopefully it'll be more fun that you think.\n",
    "\n",
    "The task is to construct sentences based on a description of a language. This is the basis of all modern text processing such as chatbots, translators etc.\n",
    "\n",
    "  * As you know a language is constructed by sentences (S). In most languages sentences (S) are constructed by nouns (N), verbs (V), adjectives (A) \n",
    "\n",
    "  * Your job is simply to play around with the code in `simple_make_sentence.py` and see if you understand it.\n",
    "  * Try to call it with the below code and trace it back through the functions. How does it arrive to the output?\n"
   ]
  },
  {
   "cell_type": "code",
   "execution_count": null,
   "metadata": {},
   "outputs": [],
   "source": [
    "from simple_make_sentence import make_sentence, grammar\n",
    "\n",
    "\n",
    "make_sentence(grammar, '_S')"
   ]
  },
  {
   "cell_type": "markdown",
   "metadata": {},
   "source": [
    "### Adding prepositions and noun phrases or verb phrases\n",
    "\n",
    "* Prepositions (P) can tell us how one noun is related to another noun (on, under, near etc)\n",
    "* Parts like N, V, A and P can be combined into noun phrases (NP) or verb phrases (VP)\n",
    "\n",
    "Try following this more complicated sentences generator. Run the code below many times. "
   ]
  },
  {
   "cell_type": "code",
   "execution_count": null,
   "metadata": {},
   "outputs": [],
   "source": [
    "from advanced_make_sentence import generate_sentence, grammar\n",
    "\n",
    "\n",
    "print(' '.join(generate_sentence(grammar)))"
   ]
  },
  {
   "cell_type": "code",
   "execution_count": null,
   "metadata": {},
   "outputs": [],
   "source": []
  }
 ],
 "metadata": {
  "kernelspec": {
   "display_name": "Python 3",
   "language": "python",
   "name": "python3"
  },
  "language_info": {
   "codemirror_mode": {
    "name": "ipython",
    "version": 3
   },
   "file_extension": ".py",
   "mimetype": "text/x-python",
   "name": "python",
   "nbconvert_exporter": "python",
   "pygments_lexer": "ipython3",
   "version": "3.6.5"
  }
 },
 "nbformat": 4,
 "nbformat_minor": 2
}
