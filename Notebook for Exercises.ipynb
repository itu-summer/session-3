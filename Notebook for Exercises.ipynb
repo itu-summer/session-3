{
 "cells": [
  {
   "cell_type": "markdown",
   "metadata": {
    "slideshow": {
     "slide_type": "subslide"
    }
   },
   "source": [
    "# Exercises!!!\n",
    "\n",
    "![image](http://forums.pixeltailgames.com/uploads/default/original/2X/f/f9c0a82e6ada756bc3f549b6a678e79df2cb5e1a.gif)"
   ]
  },
  {
   "cell_type": "markdown",
   "metadata": {
    "slideshow": {
     "slide_type": "subslide"
    }
   },
   "source": [
    "* So far you have been using `print` to write text to the screen. There is one problem with `print`: it always ends with a newline (the `\\n` character). But you can actually avoid that by using the keyword argument `end`. Below is a piece of code that prints 'I am' and 'an excellent programmer' on two different lines. Can you make them print on the same line, by setting the keyword argument `end` to the empty string?"
   ]
  },
  {
   "cell_type": "code",
   "execution_count": null,
   "metadata": {
    "slideshow": {
     "slide_type": "fragment"
    }
   },
   "outputs": [],
   "source": [
    "# Read the documentation for the `end` keyword argument\n",
    "print?"
   ]
  },
  {
   "cell_type": "code",
   "execution_count": null,
   "metadata": {
    "slideshow": {
     "slide_type": "-"
    }
   },
   "outputs": [],
   "source": [
    "print('I am')\n",
    "print(' an excellent programmer')"
   ]
  },
  {
   "cell_type": "markdown",
   "metadata": {
    "slideshow": {
     "slide_type": "subslide"
    }
   },
   "source": [
    "* Given a list of ingredients (for instance `['Vodka', 'Apple Cider', 'Apple Brandy']`), write a function (`print_ingredients`) that prints the ingredients separated by a comma (`','`) except for the two last items, that should be separated by an `'and'`. So the above example should show as`Vodka, Apple Cider and Apple Brandy`\n",
    "\n",
    "  * Try it out with the following ingredient lists:\n",
    "    * `['Gin', 'Vermouth', 'Campari', 'Orange peel']`\n",
    "    * `['White port', 'Tonic water']`"
   ]
  },
  {
   "cell_type": "code",
   "execution_count": null,
   "metadata": {
    "slideshow": {
     "slide_type": "subslide"
    }
   },
   "outputs": [],
   "source": []
  },
  {
   "cell_type": "markdown",
   "metadata": {
    "slideshow": {
     "slide_type": "subslide"
    }
   },
   "source": [
    "* Change the above function to return the pretty string instead of printing it."
   ]
  },
  {
   "cell_type": "code",
   "execution_count": null,
   "metadata": {
    "slideshow": {
     "slide_type": "subslide"
    }
   },
   "outputs": [],
   "source": []
  },
  {
   "cell_type": "markdown",
   "metadata": {
    "slideshow": {
     "slide_type": "subslide"
    }
   },
   "source": [
    "* Create a new function `get_me_a_drink` that takes a list of ingredient lists and randomly selects one of the ingredient list to be printed. When an ingredient list has been selected, store it in a variable and print it. Use the list of ingredient lists below to test your function.\n",
    "  * Hint: We used a function previously in the session that could pick a random element from a list."
   ]
  },
  {
   "cell_type": "code",
   "execution_count": null,
   "metadata": {
    "slideshow": {
     "slide_type": "subslide"
    }
   },
   "outputs": [],
   "source": [
    "list_of_lists = [\n",
    "    ['Gin', 'Vermouth', 'Campari', 'Orange peel'],\n",
    "    ['White port', 'Tonic water'],\n",
    "    ['Vodka', 'Triple sec', 'Cranberry juice', 'Lime juice'],\n",
    "    ['Vodka', 'Tequila', 'Light rum', 'Triple sec', 'Gin', 'Cola'],\n",
    "    ['Vodka', 'Tomato juice', 'Worcestershire sauce']\n",
    "] "
   ]
  },
  {
   "cell_type": "code",
   "execution_count": null,
   "metadata": {},
   "outputs": [],
   "source": []
  },
  {
   "cell_type": "markdown",
   "metadata": {
    "slideshow": {
     "slide_type": "subslide"
    }
   },
   "source": [
    "# Exercises!!!\n",
    "\n",
    "![image](https://i.makeagif.com/media/2-03-2015/0GlCUD.gif)"
   ]
  },
  {
   "cell_type": "markdown",
   "metadata": {
    "slideshow": {
     "slide_type": "subslide"
    }
   },
   "source": [
    "You are hired by Eurovision to create a new simplified voting system. Your voting system consists of a dictionary where the keys are the artist names and the values are their votes. Here is an example of a (purely fictional) contest:"
   ]
  },
  {
   "cell_type": "code",
   "execution_count": null,
   "metadata": {
    "slideshow": {
     "slide_type": "subslide"
    }
   },
   "outputs": [],
   "source": [
    "votes = { 'Conchita Wurst': 1000,\n",
    "  'Brødrene Olsen': 200,\n",
    "  'Lordi': 72,\n",
    "  'Rollo og King': 0,\n",
    "}"
   ]
  },
  {
   "cell_type": "markdown",
   "metadata": {
    "collapsed": true,
    "slideshow": {
     "slide_type": "subslide"
    }
   },
   "source": [
    "* Write a function `display_votes` that prints all the artist names and votes on separate lines."
   ]
  },
  {
   "cell_type": "code",
   "execution_count": null,
   "metadata": {
    "slideshow": {
     "slide_type": "subslide"
    }
   },
   "outputs": [],
   "source": []
  },
  {
   "cell_type": "markdown",
   "metadata": {
    "slideshow": {
     "slide_type": "subslide"
    }
   },
   "source": [
    "* Augment your `display_votes` function to print the total amount of votes either in the beginning or the end of the output."
   ]
  },
  {
   "cell_type": "code",
   "execution_count": null,
   "metadata": {
    "slideshow": {
     "slide_type": "subslide"
    }
   },
   "outputs": [],
   "source": []
  },
  {
   "cell_type": "markdown",
   "metadata": {
    "slideshow": {
     "slide_type": "subslide"
    }
   },
   "source": [
    "* Write a function `add_vote` that adds a single vote to an artist. \n",
    "  * Hint: Your function will have to have the artist name as a parameter in order to know whose vote to update."
   ]
  },
  {
   "cell_type": "code",
   "execution_count": null,
   "metadata": {
    "slideshow": {
     "slide_type": "subslide"
    }
   },
   "outputs": [],
   "source": []
  },
  {
   "cell_type": "code",
   "execution_count": null,
   "metadata": {},
   "outputs": [],
   "source": []
  }
 ],
 "metadata": {
  "kernelspec": {
   "display_name": "Python 3",
   "language": "python",
   "name": "python3"
  },
  "language_info": {
   "codemirror_mode": {
    "name": "ipython",
    "version": 3
   },
   "file_extension": ".py",
   "mimetype": "text/x-python",
   "name": "python",
   "nbconvert_exporter": "python",
   "pygments_lexer": "ipython3",
   "version": "3.6.4"
  }
 },
 "nbformat": 4,
 "nbformat_minor": 2
}
