{
 "cells": [
  {
   "cell_type": "markdown",
   "metadata": {
    "slideshow": {
     "slide_type": "slide"
    }
   },
   "source": [
    "# How not to do programming\n",
    "\n",
    "Imagine you get hired to help building the Electronic Patient Journal system. Your predecessor wrote around 2'000'000 lines of code. When you open the code, it all look like this:"
   ]
  },
  {
   "cell_type": "markdown",
   "metadata": {
    "slideshow": {
     "slide_type": "fragment"
    }
   },
   "source": [
    "![Matrix](./images/matrix.gif)"
   ]
  },
  {
   "cell_type": "markdown",
   "metadata": {
    "slideshow": {
     "slide_type": "fragment"
    }
   },
   "source": [
    "Even if you can understand the Matrix, 2'000'000 lines of code is simply too much to understand for any living human being. Then what?"
   ]
  },
  {
   "cell_type": "markdown",
   "metadata": {
    "slideshow": {
     "slide_type": "subslide"
    }
   },
   "source": [
    "## Structured programming\n",
    "\n",
    "Structured programming partly solves the complexity problem. It basically does it by delegation. "
   ]
  },
  {
   "cell_type": "markdown",
   "metadata": {
    "slideshow": {
     "slide_type": "fragment"
    }
   },
   "source": [
    "Instead of writing all code in one place we can put code into *structures* that have certain responsibilities."
   ]
  },
  {
   "cell_type": "markdown",
   "metadata": {
    "slideshow": {
     "slide_type": "fragment"
    }
   },
   "source": [
    "These *structures* are also called *functions*. They are tasked with solving a single problem. "
   ]
  },
  {
   "cell_type": "markdown",
   "metadata": {
    "slideshow": {
     "slide_type": "subslide"
    }
   },
   "source": [
    "# Creating a Function\n",
    "\n",
    "You have actually already used functions. Both `print()` and `len()` are functions. \n",
    "\n",
    "Python provides several built-in functions like these, but you can also write your own functions. Here is how:"
   ]
  },
  {
   "cell_type": "code",
   "execution_count": 20,
   "metadata": {
    "slideshow": {
     "slide_type": "fragment"
    }
   },
   "outputs": [],
   "source": [
    "def print_sentence():\n",
    "    \"\"\"Display the first sentence of Moby Dick\"\"\"\n",
    "    \n",
    "    fst_sentence = 'Call me Ishmael.'\n",
    "    print(fst_sentence)\n",
    "\n",
    "print_sentence?"
   ]
  },
  {
   "cell_type": "code",
   "execution_count": 17,
   "metadata": {
    "slideshow": {
     "slide_type": "fragment"
    }
   },
   "outputs": [
    {
     "name": "stdout",
     "output_type": "stream",
     "text": [
      "Call me Ishmael.\n"
     ]
    }
   ],
   "source": [
    "print_sentence()"
   ]
  },
  {
   "cell_type": "code",
   "execution_count": 18,
   "metadata": {
    "slideshow": {
     "slide_type": "fragment"
    }
   },
   "outputs": [
    {
     "name": "stdout",
     "output_type": "stream",
     "text": [
      "Call me Ishmael.\n"
     ]
    }
   ],
   "source": [
    "print_sentence()"
   ]
  },
  {
   "cell_type": "markdown",
   "metadata": {
    "slideshow": {
     "slide_type": "subslide"
    }
   },
   "source": [
    "## Functions are tasks\n",
    "\n",
    "If you need to perform that task multiple times throughout your program, you do not need to type all the code for the same task again and again; you just call the function dedicated to handling that task.\n",
    "\n",
    "Your \"**call**\" tells Python to run the code inside the function. You will find that using functions makes your programs easier to write, read, test, and x."
   ]
  },
  {
   "cell_type": "markdown",
   "metadata": {
    "slideshow": {
     "slide_type": "subslide"
    }
   },
   "source": [
    "## How to create a function\n",
    "\n",
    "```python\n",
    "def print_sentence():\n",
    "    \"\"\"Display the first sentence of Moby Dick\"\"\"\n",
    "    \n",
    "    fst_sentence = 'Call me Ishmael.'\n",
    "    print(fst_sentence)\n",
    "```\n",
    "    \n",
    "This example shows the simplest structure of a function. It contains a **function definition** and a **function body**:"
   ]
  },
  {
   "cell_type": "markdown",
   "metadata": {
    "slideshow": {
     "slide_type": "skip"
    }
   },
   "source": [
    "* The first line uses the keyword `def` to inform Python, that you are defining a function. This is the *function definition*, which tells the interpreter the name of the function and, if applicable, what kind of information the function needs to do its job. The parentheses hold that information, the *arguments*. In this case, the name of the function is `print_sentence()`, and it needs no information to do its job, so its parentheses are empty, there are no arguments. (Even so, the parentheses are required.) Finally, the definition ends in a colon.\n",
    "\n",
    "* Any indented lines that follow `def print_sentence():` make up the *body of the function*. The text in `\"\"\" \"\"\"` is a comment called a *docstring*, which describes what the function does. Docstrings are enclosed in triple quotes, which Python looks for when it generates documentation for the functions in your programs.\n",
    "\n",
    "The lines: \n",
    "\n",
    "```python\n",
    "    fst_sentence = 'Call me Ishmael.'\n",
    "    print(fst_sentence)\n",
    "```\n",
    "\n",
    "are the only lines of actual code in the body of this function, so `print_sentence()` has just one job, it prints the first sentence of Moby Dick.\n",
    "\n",
    "When you want to use this function, you call it. A *function call* tells Python to execute the code in the function. To call a function, you write the name of the function, followed by any necessary arguments in parentheses. Because no information is needed here, calling our function is as simple as entering `print_sentence()`."
   ]
  },
  {
   "cell_type": "markdown",
   "metadata": {
    "slideshow": {
     "slide_type": "subslide"
    }
   },
   "source": [
    "## An adaptive function\n",
    "\n",
    "The function above was pretty boring. It never changed behaviour.\n",
    "\n",
    "We can actually put something into the function, so it adapts to what we need:"
   ]
  },
  {
   "cell_type": "markdown",
   "metadata": {
    "slideshow": {
     "slide_type": "subslide"
    }
   },
   "source": [
    "## Functions as \"black boxes\"\n",
    "\n",
    "<img src=\"./images/function.png\" style=\"width: 50%\"/>"
   ]
  },
  {
   "cell_type": "markdown",
   "metadata": {
    "slideshow": {
     "slide_type": "subslide"
    }
   },
   "source": [
    "## An adaptive function\n",
    "\n",
    "The function above was pretty boring. It never changed behaviour. "
   ]
  },
  {
   "cell_type": "code",
   "execution_count": 21,
   "metadata": {
    "slideshow": {
     "slide_type": "fragment"
    }
   },
   "outputs": [],
   "source": [
    "def modify_sentence(name):\n",
    "    \"\"\"Display a modified first sentence of Moby Dick\n",
    "\n",
    "    :param name: str\n",
    "        Name to insert in the sentence.\n",
    "    \"\"\"\n",
    "    \n",
    "    fst_sentence = 'Call me ' + name + '.'\n",
    "    print(fst_sentence)"
   ]
  },
  {
   "cell_type": "code",
   "execution_count": 31,
   "metadata": {
    "slideshow": {
     "slide_type": "fragment"
    }
   },
   "outputs": [],
   "source": [
    "modify_sentence('Ahab')"
   ]
  },
  {
   "cell_type": "code",
   "execution_count": 36,
   "metadata": {
    "slideshow": {
     "slide_type": "subslide"
    }
   },
   "outputs": [
    {
     "ename": "TypeError",
     "evalue": "must be str, not int",
     "output_type": "error",
     "traceback": [
      "\u001b[0;31m---------------------------------------------------------------------------\u001b[0m",
      "\u001b[0;31mTypeError\u001b[0m                                 Traceback (most recent call last)",
      "\u001b[0;32m<ipython-input-36-b36c0cfbb475>\u001b[0m in \u001b[0;36m<module>\u001b[0;34m()\u001b[0m\n\u001b[0;32m----> 1\u001b[0;31m \u001b[0mmodify_sentence\u001b[0m\u001b[0;34m(\u001b[0m\u001b[0;36m23456\u001b[0m\u001b[0;34m)\u001b[0m\u001b[0;34m\u001b[0m\u001b[0m\n\u001b[0m",
      "\u001b[0;32m<ipython-input-21-ca115a590d68>\u001b[0m in \u001b[0;36mmodify_sentence\u001b[0;34m(name)\u001b[0m\n\u001b[1;32m      6\u001b[0m     \"\"\"\n\u001b[1;32m      7\u001b[0m \u001b[0;34m\u001b[0m\u001b[0m\n\u001b[0;32m----> 8\u001b[0;31m     \u001b[0mfst_sentence\u001b[0m \u001b[0;34m=\u001b[0m \u001b[0;34m'Call me '\u001b[0m \u001b[0;34m+\u001b[0m \u001b[0mname\u001b[0m \u001b[0;34m+\u001b[0m \u001b[0;34m'.'\u001b[0m\u001b[0;34m\u001b[0m\u001b[0m\n\u001b[0m\u001b[1;32m      9\u001b[0m     \u001b[0mprint\u001b[0m\u001b[0;34m(\u001b[0m\u001b[0mfst_sentence\u001b[0m\u001b[0;34m)\u001b[0m\u001b[0;34m\u001b[0m\u001b[0m\n",
      "\u001b[0;31mTypeError\u001b[0m: must be str, not int"
     ]
    }
   ],
   "source": [
    "modify_sentence(23456)"
   ]
  },
  {
   "cell_type": "code",
   "execution_count": null,
   "metadata": {},
   "outputs": [],
   "source": []
  },
  {
   "cell_type": "markdown",
   "metadata": {
    "slideshow": {
     "slide_type": "subslide"
    }
   },
   "source": [
    "## Passing Information to a Function via Arguments\n",
    "\n",
    "```python\n",
    "def modify_sentence(name):\n",
    "    ...\n",
    "```\n",
    "\n",
    "### Arguments and Parameters\n",
    "In the above example, `modify_sentence(name)` requires a value for the variable `name`. Once we called the function and gave it the information -a person’s name-, it can now do something with that name.\n",
    "\n",
    "In practice `name` becomes a `variable` inside the function. But because it is required for the function to work, it is called a **parameter**: it is  a piece of information the function *needs* to do its job. "
   ]
  },
  {
   "cell_type": "code",
   "execution_count": null,
   "metadata": {
    "slideshow": {
     "slide_type": "subslide"
    }
   },
   "outputs": [],
   "source": [
    "def modify_sentence(name):\n",
    "    \"\"\"Display a modified first sentence of Moby Dick\n",
    "\n",
    "    :param name: str\n",
    "        Name to insert in the sentence.\n",
    "    \"\"\"\n",
    "    \n",
    "    fst_sentence = 'Call me ' + name + '.'\n",
    "    print(fst_sentence)"
   ]
  },
  {
   "cell_type": "code",
   "execution_count": null,
   "metadata": {
    "slideshow": {
     "slide_type": "-"
    }
   },
   "outputs": [],
   "source": [
    "modify_sentence('Ahab')"
   ]
  },
  {
   "cell_type": "markdown",
   "metadata": {
    "slideshow": {
     "slide_type": "fragment"
    }
   },
   "source": [
    "The value `'Ahab'` in `modify_sentence('Ahab')` is an example of an argument. An argument is a piece of information that is passed from a function call to a function. When we call the function, we place the value we want the function to work with in parentheses. In this case the argument `'Ahab'` was passed to the function `modify_sentence(name)`, and the value was stored in the parameter `name`.\n",
    "\n",
    "Note, people sometimes speak of arguments and parameters interchangeably."
   ]
  },
  {
   "cell_type": "markdown",
   "metadata": {
    "slideshow": {
     "slide_type": "subslide"
    }
   },
   "source": [
    "### Positional Arguments\n",
    "\n",
    "When you call a function, Python must match each argument in the function call with a parameter in the function definition. The simplest way to do this is based on the order of the arguments provided. Values matched up this way are called *positional arguments*.\n",
    "\n",
    "Consequently, you can get unexpected results if you mix up the order of the arguments in a function call when using positional arguments."
   ]
  },
  {
   "cell_type": "code",
   "execution_count": 37,
   "metadata": {
    "slideshow": {
     "slide_type": "subslide"
    }
   },
   "outputs": [],
   "source": [
    "def apply_division(a, b):\n",
    "    \"\"\"Divide a by b.\n",
    "\n",
    "    :param a: number\n",
    "        Dividend of devision operation.\n",
    "        \n",
    "    :param b: number\n",
    "        Divisor of devision operation.\n",
    "    \"\"\"\n",
    "    result = a / b\n",
    "    print(result)"
   ]
  },
  {
   "cell_type": "code",
   "execution_count": 38,
   "metadata": {
    "slideshow": {
     "slide_type": "fragment"
    }
   },
   "outputs": [
    {
     "name": "stdout",
     "output_type": "stream",
     "text": [
      "1.25\n"
     ]
    }
   ],
   "source": [
    "apply_division(5, 4)"
   ]
  },
  {
   "cell_type": "code",
   "execution_count": 39,
   "metadata": {},
   "outputs": [
    {
     "name": "stdout",
     "output_type": "stream",
     "text": [
      "0.8\n"
     ]
    }
   ],
   "source": [
    "apply_division(4, 5)"
   ]
  },
  {
   "cell_type": "markdown",
   "metadata": {
    "slideshow": {
     "slide_type": "subslide"
    }
   },
   "source": [
    "### Keyword Arguments\n",
    "\n",
    "*Keyword arguments* are name-value pairs that you pass to a function. You directly associate the name and the value within the argument, so when you pass the argument to the function, there is no confusion. Keyword arguments free you from having to worry about correctly ordering your arguments in the function call, and they clarify the role of each value in the function call."
   ]
  },
  {
   "cell_type": "code",
   "execution_count": 41,
   "metadata": {
    "slideshow": {
     "slide_type": "subslide"
    }
   },
   "outputs": [],
   "source": [
    "def apply_division(dividend, divisor):\n",
    "    result = dividend / divisor\n",
    "    print(result)"
   ]
  },
  {
   "cell_type": "code",
   "execution_count": 42,
   "metadata": {
    "slideshow": {
     "slide_type": "fragment"
    }
   },
   "outputs": [
    {
     "name": "stdout",
     "output_type": "stream",
     "text": [
      "1.25\n"
     ]
    }
   ],
   "source": [
    "apply_division(dividend=5, divisor=4)"
   ]
  },
  {
   "cell_type": "code",
   "execution_count": 43,
   "metadata": {},
   "outputs": [
    {
     "name": "stdout",
     "output_type": "stream",
     "text": [
      "1.25\n"
     ]
    }
   ],
   "source": [
    "apply_division(divisor=4, dividend=5)"
   ]
  },
  {
   "cell_type": "markdown",
   "metadata": {
    "slideshow": {
     "slide_type": "subslide"
    }
   },
   "source": [
    "### Default Values\n",
    "\n",
    "When writing a function, you can define a default value for each parameter. If an argument for a parameter is provided in the function call, Python uses the argument value. If not, it uses the parameter’s default value. So when you define a default value for a parameter, you can exclude the corresponding argument you would usually write in the function call. Using default values can simplify your function calls and clarify the ways in which your functions are typically used.\n",
    "\n",
    "**OBS!** When you use default values, any parameter with a default value needs to be listed after all the parameters that do not have default values. This allows Python to continue interpreting positional arguments correctly."
   ]
  },
  {
   "cell_type": "code",
   "execution_count": 46,
   "metadata": {
    "slideshow": {
     "slide_type": "subslide"
    }
   },
   "outputs": [
    {
     "name": "stdout",
     "output_type": "stream",
     "text": [
      "0.5\n"
     ]
    }
   ],
   "source": [
    "def apply_division(dividend, divisor=2):\n",
    "    result = dividend / divisor\n",
    "    print(result)\n",
    "\n",
    "\n",
    "apply_division(5, 10)"
   ]
  },
  {
   "cell_type": "markdown",
   "metadata": {
    "slideshow": {
     "slide_type": "slide"
    }
   },
   "source": [
    "### Equivalent Function Calls\n",
    "\n",
    "Because positional arguments, keyword arguments, and default values can all be used together, often you will have several equivalent ways to call a function. Consider the following:"
   ]
  },
  {
   "cell_type": "code",
   "execution_count": null,
   "metadata": {},
   "outputs": [],
   "source": [
    "def apply_division(dividend, divisor=2):\n",
    "    result = dividend / divisor\n",
    "    print(result)\n",
    "\n",
    "\n",
    "apply_division(5)\n",
    "apply_division(dividend=5)\n",
    "\n",
    "apply_division(5, 4)\n",
    "apply_division(dividend=5, divisor=4)\n",
    "apply_division(divisor=4, dividend=5)"
   ]
  },
  {
   "cell_type": "markdown",
   "metadata": {
    "slideshow": {
     "slide_type": "subslide"
    }
   },
   "source": [
    "### Argument Errors\n",
    "\n",
    "When you start to use functions, do not be surprised if you encounter errors about unmatched arguments. Unmatched arguments occur when you provide fewer or more arguments than a function needs to do its work."
   ]
  },
  {
   "cell_type": "code",
   "execution_count": 47,
   "metadata": {
    "slideshow": {
     "slide_type": "fragment"
    }
   },
   "outputs": [
    {
     "ename": "TypeError",
     "evalue": "apply_division() missing 1 required positional argument: 'dividend'",
     "output_type": "error",
     "traceback": [
      "\u001b[0;31m---------------------------------------------------------------------------\u001b[0m",
      "\u001b[0;31mTypeError\u001b[0m                                 Traceback (most recent call last)",
      "\u001b[0;32m<ipython-input-47-de388af09207>\u001b[0m in \u001b[0;36m<module>\u001b[0;34m()\u001b[0m\n\u001b[1;32m      4\u001b[0m \u001b[0;34m\u001b[0m\u001b[0m\n\u001b[1;32m      5\u001b[0m \u001b[0;34m\u001b[0m\u001b[0m\n\u001b[0;32m----> 6\u001b[0;31m \u001b[0mapply_division\u001b[0m\u001b[0;34m(\u001b[0m\u001b[0;34m)\u001b[0m\u001b[0;34m\u001b[0m\u001b[0m\n\u001b[0m",
      "\u001b[0;31mTypeError\u001b[0m: apply_division() missing 1 required positional argument: 'dividend'"
     ]
    }
   ],
   "source": [
    "def apply_division(dividend, divisor=2):\n",
    "    result = dividend / divisor\n",
    "    print(result)\n",
    "\n",
    "\n",
    "apply_division()"
   ]
  },
  {
   "cell_type": "code",
   "execution_count": 74,
   "metadata": {},
   "outputs": [
    {
     "name": "stdout",
     "output_type": "stream",
     "text": [
      "I really really really really  like cookie dough\n"
     ]
    }
   ],
   "source": [
    "def print_cookie_likeness(data):\n",
    "    print('I ' + 'really ' * data + ' like cookie dough')\n",
    "\n",
    "print_cookie_likeness(4)"
   ]
  },
  {
   "cell_type": "markdown",
   "metadata": {
    "slideshow": {
     "slide_type": "slide"
    }
   },
   "source": [
    "## Cookie function\n",
    "\n",
    "In session 1 you wrote a piece of code that printed out how much you enjoyed cookie dough. \n",
    "\n",
    "* Can you turn the following code into a function called `print_cookie_likeness`? What should the argument be?\n",
    "\n",
    "```python\n",
    "data = input('How much do you like cookie dough?')\n",
    "data = int(data)\n",
    "print('You ' + 'really ' * data + 'like cookie dough')\n",
    "```\n",
    "\n",
    "* Write documentation, i.e., a docstring, for your function."
   ]
  },
  {
   "cell_type": "code",
   "execution_count": null,
   "metadata": {},
   "outputs": [],
   "source": [
    " "
   ]
  },
  {
   "cell_type": "code",
   "execution_count": null,
   "metadata": {},
   "outputs": [],
   "source": []
  },
  {
   "cell_type": "code",
   "execution_count": null,
   "metadata": {},
   "outputs": [],
   "source": []
  },
  {
   "cell_type": "markdown",
   "metadata": {
    "slideshow": {
     "slide_type": "slide"
    }
   },
   "source": [
    "# `return` Values\n",
    "\n",
    "The functions we worked with so far actually didn't give any output. They printed something, but we never *used* that.\n",
    "\n",
    "A function does not always have to display its output directly. Instead, it can process some data and give it back to the user. The value the function returns is called a **return value**. \n",
    "\n",
    "You write this with the `return` keyword:"
   ]
  },
  {
   "cell_type": "code",
   "execution_count": null,
   "metadata": {
    "slideshow": {
     "slide_type": "fragment"
    }
   },
   "outputs": [],
   "source": [
    "def give_me_five():\n",
    "    \"\"\"A function to return five.\n",
    "\n",
    "    :return: int\n",
    "        Five... always\n",
    "    \"\"\"\n",
    "    return 5\n",
    "\n",
    "\n",
    "give_me_five() + 1"
   ]
  },
  {
   "cell_type": "markdown",
   "metadata": {
    "slideshow": {
     "slide_type": "subslide"
    }
   },
   "source": [
    "The return statement takes a value from inside a function and sends it back to the line that called the function. \n",
    "\n",
    "Return values allow you to move much of your program’s grunt work into functions, which can simplify the body of your program.\n",
    "\n",
    "A function can return any kind of value you need it to, including more complicated data structures like lists and dictionaries."
   ]
  },
  {
   "cell_type": "code",
   "execution_count": 82,
   "metadata": {
    "slideshow": {
     "slide_type": "subslide"
    }
   },
   "outputs": [
    {
     "name": "stdout",
     "output_type": "stream",
     "text": [
      "Call me Ahab.\n"
     ]
    }
   ],
   "source": [
    "def modify_sentence(name):\n",
    "    \"\"\"Construct a modified first sentence of Moby Dick\n",
    "\n",
    "    :param name: str\n",
    "        Name to insert in the sentence.\n",
    "        \n",
    "    :return: str\n",
    "        The modified first sentence.\n",
    "    \"\"\"\n",
    "    \n",
    "    fst_sentence = 'Call me ' + name + '.'\n",
    "    return fst_sentence\n",
    "\n",
    "\n",
    "result = modify_sentence('Ahab')\n",
    "print(result)"
   ]
  },
  {
   "cell_type": "code",
   "execution_count": null,
   "metadata": {
    "slideshow": {
     "slide_type": "subslide"
    }
   },
   "outputs": [],
   "source": [
    "def modify_sentence(name):\n",
    "    \"\"\"Construct a modified first sentence of Moby Dick\n",
    "\n",
    "    :param name: str\n",
    "        Name to insert in the sentence.\n",
    "        \n",
    "    :return: list\n",
    "        The modified first sentence as a list of words.\n",
    "    \"\"\"\n",
    "    \n",
    "    fst_sentence = 'Call me ' + name + '.'\n",
    "    return fst_sentence.split()\n",
    "\n",
    "\n",
    "result = modify_sentence('Ahab')\n",
    "result"
   ]
  },
  {
   "cell_type": "markdown",
   "metadata": {
    "slideshow": {
     "slide_type": "slide"
    }
   },
   "source": [
    "# Bonus: Arbitrary arguments"
   ]
  },
  {
   "cell_type": "markdown",
   "metadata": {
    "slideshow": {
     "slide_type": "slide"
    }
   },
   "source": [
    "# Passing an Arbitrary Number of Arguments\n",
    "\n",
    "Sometimes you won’t know ahead of time how many arguments a function needs to accept. Fortunately, Python allows a function to collect an arbitrary number of arguments from the calling statement."
   ]
  },
  {
   "cell_type": "code",
   "execution_count": null,
   "metadata": {
    "slideshow": {
     "slide_type": "fragment"
    }
   },
   "outputs": [],
   "source": [
    "def hire_crew(*sailors):\n",
    "    \"\"\"Print the list of hired crew members.\"\"\"\n",
    "    \n",
    "    for sailor in sailors:\n",
    "        print('- ' + sailor)\n",
    "\n",
    "\n",
    "hire_crew('Ahab')\n",
    "hire_crew('Ahab', 'Ishmael', 'Queequeg')"
   ]
  },
  {
   "cell_type": "markdown",
   "metadata": {
    "slideshow": {
     "slide_type": "subslide"
    }
   },
   "source": [
    "## Mixing Positional and Arbitrary Arguments\n",
    "\n",
    "If you want a function to accept several different kinds of arguments, the parameter that accepts an arbitrary number of arguments must be placed last in the function definition. Python matches positional and keyword arguments first and then collects any remaining arguments in the final parameter."
   ]
  },
  {
   "cell_type": "code",
   "execution_count": null,
   "metadata": {
    "slideshow": {
     "slide_type": "fragment"
    }
   },
   "outputs": [],
   "source": [
    "def hire_crew(amount, *sailors):\n",
    "    \"\"\"Checks the list of hired crew members.\"\"\"\n",
    "    members = []\n",
    "    if amount != len(sailors):\n",
    "        return False\n",
    "    for sailor in sailors:\n",
    "        members.append(sailor)\n",
    "    return members\n",
    "\n",
    "\n",
    "hire_crew(1, 'Ahab')\n",
    "hire_crew(3, 'Ahab', 'Ishmael', 'Queequeg')"
   ]
  },
  {
   "cell_type": "markdown",
   "metadata": {
    "slideshow": {
     "slide_type": "slide"
    }
   },
   "source": [
    "## Using Arbitrary Keyword Arguments\n",
    "\n",
    "Sometimes you will want to accept an arbitrary number of arguments, but you won’t know ahead of time what kind of information will be passed to the function. "
   ]
  },
  {
   "cell_type": "code",
   "execution_count": null,
   "metadata": {
    "slideshow": {
     "slide_type": "subslide"
    }
   },
   "outputs": [],
   "source": [
    "def build_profile(first, last, **user_info):\n",
    "    \"\"\"Build a dictionary containing everything we know about a user.\"\"\"\n",
    "    profile = {}\n",
    "    profile['first_name'] = first\n",
    "    profile['last_name'] = last\n",
    "    for key, value in user_info.items():\n",
    "        profile[key] = value\n",
    "    return profile\n",
    "\n",
    "\n",
    "user_profile = build_profile('albert', 'einstein',\n",
    "                             location='princeton',\n",
    "                             field='physics')\n",
    "print(user_profile)"
   ]
  },
  {
   "cell_type": "markdown",
   "metadata": {
    "slideshow": {
     "slide_type": "skip"
    }
   },
   "source": [
    "In this case, you can write functions that accept as many key-value pairs as the calling statement provides. One example involves building user profiles: you know you will get information about a user, but you are not sure what kind of information you’ll receive. The function `build_profile()` in the following example always takes in a first and last name, but it accepts an arbitrary number of keyword arguments as well.\n",
    "\n",
    "The definition of build_profile() expects a first and last name, and then it allows the user to pass in as many name-value pairs as they want. The double asterisks before the parameter `**user_info` cause Python to create an empty dictionary called user_info and pack whatever name-value pairs it receives into this dictionary. Within the function, you can access the name-value pairs in `user_info` just as you would for any dictionary."
   ]
  },
  {
   "cell_type": "markdown",
   "metadata": {
    "slideshow": {
     "slide_type": "subslide"
    }
   },
   "source": [
    "## How NASA does programming\n",
    "\n",
    "One advantage of functions is the way they separate blocks of code from your main program. By using descriptive names for your functions, your main program will be much easier to follow. \n",
    "\n",
    "Organisations like NASA take things like naming and structure very very serious. Bad programming decisions are causing deaths and vast productivity losses daily. They wrote [10 rules for developing safety-critical code](http://pixelscommander.com/wp-content/uploads/2014/12/P10.pdf).\n",
    "\n",
    "Bad example: [https://en.wikipedia.org/wiki/Mariner_1](Mariner 1)\n",
    "\n",
    "![](./images/shuttle_explosion.gif)"
   ]
  },
  {
   "cell_type": "markdown",
   "metadata": {
    "slideshow": {
     "slide_type": "subslide"
    }
   },
   "source": [
    "## The fear of technical debt\n",
    "\n",
    "NASA has good reason to do this. While code gets increasingly complicated, your brain does not.\n",
    "\n",
    "Think about it this way: Every time you write a line of code, your program gets more complicated. Essentially that is a *debt* you will have to pay later when you want new features."
   ]
  },
  {
   "cell_type": "markdown",
   "metadata": {
    "slideshow": {
     "slide_type": "fragment"
    }
   },
   "source": [
    "  > The cost of never paying down this technical debt is clear; eventually the cost to deliver functionality \n",
    "  > will become so slow that it is easy for a well-designed competitive software product to overtake the \n",
    "  > badly-designed software in terms of features. \n",
    "  >\n",
    "  > - Junade Ali, Mastering PHP Design Patterns"
   ]
  },
  {
   "cell_type": "markdown",
   "metadata": {
    "slideshow": {
     "slide_type": "slide"
    }
   },
   "source": [
    "# Modules\n",
    "\n",
    "You can organise your program further by storing your functions in a separate file called a module.\n",
    "\n",
    "A module is a collection of functions that does something specific. There is for instance a module called `os` that contains functions related to your computer (operating system).\n",
    "\n",
    "Modules can be imported in python like so:\n",
    "\n",
    "```python\n",
    "import os\n",
    "```\n",
    "\n",
    "An import statement tells Python to make the code in a module available in the currently running program file."
   ]
  },
  {
   "cell_type": "markdown",
   "metadata": {
    "slideshow": {
     "slide_type": "skip"
    }
   },
   "source": [
    "Storing your functions in a separate file allows you to hide the details of your program’s code and focus on its higher-level logic. It also allows you to reuse functions in many different programs. \n",
    "\n",
    "When you store your functions in separate files, you can share those files with other programmers without having to share your entire program. Knowing how to `import` functions also allows you to use libraries of functions that other programmers have written."
   ]
  },
  {
   "cell_type": "markdown",
   "metadata": {
    "slideshow": {
     "slide_type": "subslide"
    }
   },
   "source": [
    "## Importing a Module\n",
    "\n",
    "To call a function from an imported module, enter the name of the module you imported followed by the name of the function separated by a dot.\n",
    "\n",
    "In the following examples, we import entire modules, which makes every function from the module available in your program."
   ]
  },
  {
   "cell_type": "code",
   "execution_count": 83,
   "metadata": {
    "slideshow": {
     "slide_type": "fragment"
    }
   },
   "outputs": [
    {
     "data": {
      "text/plain": [
       "8"
      ]
     },
     "execution_count": 83,
     "metadata": {},
     "output_type": "execute_result"
    }
   ],
   "source": [
    "import os\n",
    "\n",
    "\n",
    "os.cpu_count()"
   ]
  },
  {
   "cell_type": "markdown",
   "metadata": {
    "slideshow": {
     "slide_type": "subslide"
    }
   },
   "source": [
    "## Getting Help on a Module\n",
    "\n",
    "The following only works in the current notebooks."
   ]
  },
  {
   "cell_type": "code",
   "execution_count": 84,
   "metadata": {
    "slideshow": {
     "slide_type": "fragment"
    }
   },
   "outputs": [],
   "source": [
    "import string\n",
    "\n",
    "\n",
    "string?"
   ]
  },
  {
   "cell_type": "markdown",
   "metadata": {
    "slideshow": {
     "slide_type": "subslide"
    }
   },
   "source": [
    "## Getting Help on a Function"
   ]
  },
  {
   "cell_type": "code",
   "execution_count": 85,
   "metadata": {
    "slideshow": {
     "slide_type": "-"
    }
   },
   "outputs": [],
   "source": [
    "import string\n",
    "\n",
    "\n",
    "string.capwords?"
   ]
  },
  {
   "cell_type": "code",
   "execution_count": 86,
   "metadata": {
    "slideshow": {
     "slide_type": "fragment"
    }
   },
   "outputs": [
    {
     "data": {
      "text/plain": [
       "'  uiuiui aiaiai   '"
      ]
     },
     "execution_count": 86,
     "metadata": {},
     "output_type": "execute_result"
    }
   ],
   "source": [
    "string.capwords('  uiUIui AIaiAI   ', sep='_')"
   ]
  },
  {
   "cell_type": "markdown",
   "metadata": {
    "slideshow": {
     "slide_type": "skip"
    }
   },
   "source": [
    "## Stand on the shoulders of giants (and 10'000+ man hours)\n",
    "\n",
    "Storing your functions in a separate file allows you to hide the details of your program’s code and focus on its higher-level logic. It also allows you to reuse functions in many different programs. \n",
    "\n",
    "When you store your functions in separate modules, you can share those modules with other programmers without having to share your entire program. \n",
    "\n",
    "Knowing how to `import` functions also **allows you to use libraries of functions that other programmers have written**.\n",
    "\n",
    "We will learn on Monday, how to store your code in separate files, i.e., modules."
   ]
  },
  {
   "cell_type": "markdown",
   "metadata": {
    "slideshow": {
     "slide_type": "subslide"
    }
   },
   "source": [
    "## Modules are Files\n",
    "\n",
    "Modules are actually just files with a `.py` ending. So if you write \n",
    "```python\n",
    "import string\n",
    "```\n",
    "You actually just fetch the `string.py` file.\n",
    "\n",
    "Let's have a look! And don't worry about not understanding this."
   ]
  },
  {
   "cell_type": "code",
   "execution_count": null,
   "metadata": {
    "slideshow": {
     "slide_type": "subslide"
    }
   },
   "outputs": [],
   "source": [
    "import string\n",
    "\n",
    "\n",
    "print(string.__file__)"
   ]
  },
  {
   "cell_type": "markdown",
   "metadata": {
    "slideshow": {
     "slide_type": "fragment"
    }
   },
   "source": [
    "  * The property `__file__` tells you, where a module is stored. `/Users/rhp/anaconda3/lib/python3.6/string.py` is the path for where the `string.py` module is stored on https://notebooks.azure.com\n",
    "  * In Azure Notebooks click on the marked symbol"
   ]
  },
  {
   "cell_type": "markdown",
   "metadata": {},
   "source": [
    "<img src=\"images/azure_terminal.png\" width=\"400px\">"
   ]
  },
  {
   "cell_type": "markdown",
   "metadata": {
    "slideshow": {
     "slide_type": "subslide"
    }
   },
   "source": [
    "Type the following command into the terminal, hit return, and inspect the first 50 lines of the `string` module.\n",
    "\n",
    "```bash\n",
    "less -N /home/nbuser/anaconda3_420/lib/python3.5/string.py\n",
    "```\n",
    "\n",
    "<img src=\"images/azure_terminal2.png\" width=\"600px\">\n",
    "\n",
    "Describe to your neighbour what you can see on the first 50 lines of `string.py`."
   ]
  },
  {
   "cell_type": "markdown",
   "metadata": {
    "slideshow": {
     "slide_type": "subslide"
    }
   },
   "source": [
    "### Module Aliases\n",
    "\n",
    "Modules can be given aliases when imported:\n",
    "\n",
    "```python\n",
    "import module_name as mn\n",
    "```\n",
    "\n",
    "Calling the functions via a module alias is more concise and allows you to focus on the descriptive names of the functions. \n",
    "\n",
    "The function names, which clearly tell you what each function does, are more important to the readability of your code than using the full module name."
   ]
  },
  {
   "cell_type": "code",
   "execution_count": null,
   "metadata": {
    "slideshow": {
     "slide_type": "fragment"
    }
   },
   "outputs": [],
   "source": [
    "import random as r\n",
    "\n",
    "\n",
    "r.choice([1, 2, 3, 4, 5, 6])"
   ]
  },
  {
   "cell_type": "markdown",
   "metadata": {
    "slideshow": {
     "slide_type": "subslide"
    }
   },
   "source": [
    "## Importing All Functions in a Module\n",
    "\n",
    "You can also tell Python to import every function in a module by using the asterisk (`*`) operator."
   ]
  },
  {
   "cell_type": "markdown",
   "metadata": {
    "slideshow": {
     "slide_type": "skip"
    }
   },
   "source": [
    "The asterisk in the `import` statement tells Python to copy every function from the module into this program. Because every function is imported, you can call each function by name without using the dot notation. \n",
    "\n",
    "**Note**: It is best not to use this approach when you are working with larger modules that you did not write yourself: if the module has a function name that matches an existing name in your project, you can get some unexpected results. Python may see several functions or variables with the same name, and instead of importing all the functions separately, it will overwrite the functions.\n",
    "\n",
    "The best approach is to import the function or functions you want, or import the entire module and use the dot notation. This leads to clear code that is easy to read and understand. I include this section so you will recognize `import` statements like the following when you see them in other people’s code:\n",
    "\n",
    "```python\n",
    "from module_name import *\n",
    "```"
   ]
  },
  {
   "cell_type": "code",
   "execution_count": 87,
   "metadata": {
    "slideshow": {
     "slide_type": "fragment"
    }
   },
   "outputs": [
    {
     "name": "stdout",
     "output_type": "stream",
     "text": [
      "3.141592653589793\n",
      "-1.0\n"
     ]
    }
   ],
   "source": [
    "# Good \n",
    "import math\n",
    "\n",
    "\n",
    "print(math.pi)\n",
    "print(math.cos(math.pi))"
   ]
  },
  {
   "cell_type": "code",
   "execution_count": null,
   "metadata": {
    "slideshow": {
     "slide_type": "fragment"
    }
   },
   "outputs": [],
   "source": [
    "# Bad \n",
    "from math import *\n",
    "\n",
    "\n",
    "print(pi)\n",
    "print(cos(pi))"
   ]
  },
  {
   "cell_type": "code",
   "execution_count": 89,
   "metadata": {},
   "outputs": [
    {
     "name": "stdout",
     "output_type": "stream",
     "text": [
      "4\n",
      "6\n",
      "4\n",
      "6\n",
      "5\n"
     ]
    }
   ],
   "source": [
    "import random\n",
    "\n",
    "\n",
    "def roll_dice(data):\n",
    "    for rolls in range(data):\n",
    "        print(random.randint(1, 6))\n",
    "        # print(random.choice([1,2,3,4,5,6]))\n",
    "        \n",
    "how_often = input('How often?')\n",
    "roll_dice(how_often)"
   ]
  },
  {
   "cell_type": "markdown",
   "metadata": {
    "slideshow": {
     "slide_type": "subslide"
    }
   },
   "source": [
    "## Your turn\n",
    "\n",
    "1. Import the `random` module\n",
    "  - Hint: Make use of the `choice()` function from the `random` module\n",
    "  - Hint: `random.choice(['YES!', 'NO?'])`\n",
    "2. Write code to pick a random number between 1 and 6\n",
    "  - Hint: represent the numbers as list `[1, 2, 3, 4, 5, 6]` to choose from\n",
    "3. Write a function `roll_dice` that executes the code above (in 2.) and prints the output\n",
    "4. Modify your function so it takes a number as a parameter (input) and rolls that amount of dices\n",
    "  * Example: `roll_dice(3)` could print `2, 5, 1`"
   ]
  },
  {
   "cell_type": "markdown",
   "metadata": {
    "slideshow": {
     "slide_type": "subslide"
    }
   },
   "source": [
    "## Importing Specific Functions\n",
    "\n",
    "You can also import a specific function from a module. Here’s the general syntax for this approach:\n",
    "\n",
    "```python\n",
    "from module_name import function_name\n",
    "```\n",
    "\n",
    "You can import as many functions as you want from a module by separating each function’s name with a comma:\n",
    "\n",
    "```python\n",
    "from module_name import function_0, function_1, function_2\n",
    "```"
   ]
  },
  {
   "cell_type": "code",
   "execution_count": null,
   "metadata": {
    "slideshow": {
     "slide_type": "subslide"
    }
   },
   "outputs": [],
   "source": [
    "from random import choice\n",
    "\n",
    "\n",
    "choice([1, 2, 3, 4, 5, 6])"
   ]
  },
  {
   "cell_type": "code",
   "execution_count": null,
   "metadata": {
    "slideshow": {
     "slide_type": "subslide"
    }
   },
   "outputs": [],
   "source": [
    "from random import choice, randrange\n",
    "\n",
    "\n",
    "end = choice([10, 20, 30, 40, 50, 60])\n",
    "# Choose a random item from range(start, stop[, step]).\n",
    "randrange(1, end)"
   ]
  },
  {
   "cell_type": "markdown",
   "metadata": {
    "slideshow": {
     "slide_type": "fragment"
    }
   },
   "source": [
    "With this syntax, you do not need to use the dot notation when you call a function. Because we have explicitly imported the function in the `import` statement, we can call it by name when we use the function.\n",
    "\n",
    "However, using the full name makes for more readable code, so it is better to use the normal form of the import statement."
   ]
  },
  {
   "cell_type": "markdown",
   "metadata": {
    "slideshow": {
     "slide_type": "skip"
    }
   },
   "source": [
    "## Bonus: Function Aliases\n",
    "\n",
    "If the name of a function you are importing might conflict with an existing name in your program or if the function name is long, you can use a short, unique alias —an alternate name similar to a nickname for the function. You will give the function this special nickname when you import the function.\n",
    "\n",
    "The general syntax for providing an alias is:\n",
    "\n",
    "```python \n",
    "from module_name import function_name as fn\n",
    "```"
   ]
  },
  {
   "cell_type": "code",
   "execution_count": null,
   "metadata": {
    "slideshow": {
     "slide_type": "skip"
    }
   },
   "outputs": [],
   "source": [
    "from random import choice as ch\n",
    "from random import randrange as rr\n",
    "\n",
    "\n",
    "end = ch([10, 20, 30, 40, 50, 60])\n",
    "rr(1, end)"
   ]
  },
  {
   "cell_type": "code",
   "execution_count": null,
   "metadata": {
    "slideshow": {
     "slide_type": "notes"
    }
   },
   "outputs": [],
   "source": [
    "# This is only necessary in the notebook, when you want to reload \n",
    "# modules on which you are working\n",
    "%load_ext autoreload"
   ]
  },
  {
   "cell_type": "markdown",
   "metadata": {
    "slideshow": {
     "slide_type": "subslide"
    }
   },
   "source": [
    "# Exercises\n",
    "\n",
    "![image](http://forums.pixeltailgames.com/uploads/default/original/2X/f/f9c0a82e6ada756bc3f549b6a678e79df2cb5e1a.gif)"
   ]
  },
  {
   "cell_type": "markdown",
   "metadata": {
    "slideshow": {
     "slide_type": "subslide"
    }
   },
   "source": [
    "* So far you have been using `print` to write text to the screen. There is one problem with `print`: it always ends with a newline (the `\\n` character). But you can actually avoid that by using the keyword argument `end`. Below is a piece of code that prints 'I am' and 'an excellent programmer' on two different lines. Can you make them print on the same line, by setting the keyword argument `end` to the empty string?"
   ]
  },
  {
   "cell_type": "code",
   "execution_count": null,
   "metadata": {
    "slideshow": {
     "slide_type": "fragment"
    }
   },
   "outputs": [],
   "source": [
    "# Read the documentation for the `end` keyword argument\n",
    "print?"
   ]
  },
  {
   "cell_type": "code",
   "execution_count": null,
   "metadata": {
    "slideshow": {
     "slide_type": "-"
    }
   },
   "outputs": [],
   "source": [
    "print('I am')\n",
    "print(' an excellent programmer')"
   ]
  },
  {
   "cell_type": "markdown",
   "metadata": {
    "slideshow": {
     "slide_type": "subslide"
    }
   },
   "source": [
    "* Given a list of ingredients (for instance `['Vodka', 'Apple Cider', 'Apple Brandy']`), write a function (`print_ingredients`) that prints the ingredients separated by a comma (`','`) except for the two last items, that should be separated by an `'and'`. So the above example should show as`Vodka, Apple Cider and Apple Brandy`\n",
    "\n",
    "  * Try it out with the following ingredient lists:\n",
    "    * `['Gin', 'Vermouth', 'Campari', 'Orange peel']`\n",
    "    * `['White port', 'Tonic water']`"
   ]
  },
  {
   "cell_type": "code",
   "execution_count": null,
   "metadata": {
    "slideshow": {
     "slide_type": "subslide"
    }
   },
   "outputs": [],
   "source": []
  },
  {
   "cell_type": "markdown",
   "metadata": {
    "slideshow": {
     "slide_type": "subslide"
    }
   },
   "source": [
    "* Change the above function to return the pretty string instead of printing it."
   ]
  },
  {
   "cell_type": "code",
   "execution_count": null,
   "metadata": {
    "slideshow": {
     "slide_type": "subslide"
    }
   },
   "outputs": [],
   "source": []
  },
  {
   "cell_type": "markdown",
   "metadata": {
    "slideshow": {
     "slide_type": "subslide"
    }
   },
   "source": [
    "* Create a new function `get_me_a_drink` that takes a list of ingredient lists and randomly selects one of the ingredient list to be printed. When an ingredient list has been selected, store it in a variable and print it. Use the list of ingredient lists below to test your function.\n",
    "  * Hint: We used a function previously in the session that could pick a random element from a list."
   ]
  },
  {
   "cell_type": "code",
   "execution_count": null,
   "metadata": {
    "slideshow": {
     "slide_type": "subslide"
    }
   },
   "outputs": [],
   "source": [
    "list_of_lists = [\n",
    "    ['Gin', 'Vermouth', 'Campari', 'Orange peel'],\n",
    "    ['White port', 'Tonic water'],\n",
    "    ['Vodka', 'Triple sec', 'Cranberry juice', 'Lime juice'],\n",
    "    ['Vodka', 'Tequila', 'Light rum', 'Triple sec', 'Gin', 'Cola'],\n",
    "    ['Vodka', 'Tomato juice', 'Worcestershire sauce']\n",
    "] "
   ]
  },
  {
   "cell_type": "code",
   "execution_count": null,
   "metadata": {},
   "outputs": [],
   "source": []
  }
 ],
 "metadata": {
  "celltoolbar": "Slideshow",
  "kernelspec": {
   "display_name": "Python 3",
   "language": "python",
   "name": "python3"
  },
  "language_info": {
   "codemirror_mode": {
    "name": "ipython",
    "version": 3
   },
   "file_extension": ".py",
   "mimetype": "text/x-python",
   "name": "python",
   "nbconvert_exporter": "python",
   "pygments_lexer": "ipython3",
   "version": "3.6.4"
  }
 },
 "nbformat": 4,
 "nbformat_minor": 2
}
