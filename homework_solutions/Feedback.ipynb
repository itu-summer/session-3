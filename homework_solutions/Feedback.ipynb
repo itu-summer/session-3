{
 "cells": [
  {
   "cell_type": "markdown",
   "metadata": {
    "slideshow": {
     "slide_type": "slide"
    }
   },
   "source": [
    "# Feedback"
   ]
  },
  {
   "cell_type": "markdown",
   "metadata": {
    "slideshow": {
     "slide_type": "subslide"
    }
   },
   "source": [
    "## General advice: Solve smaller problems\n",
    "\n",
    "* Example: Count the number of words in a text"
   ]
  },
  {
   "cell_type": "markdown",
   "metadata": {
    "slideshow": {
     "slide_type": "fragment"
    }
   },
   "source": [
    "  * What does 'counting' mean?"
   ]
  },
  {
   "cell_type": "markdown",
   "metadata": {
    "slideshow": {
     "slide_type": "fragment"
    }
   },
   "source": [
    "* How many words would I like to count?"
   ]
  },
  {
   "cell_type": "markdown",
   "metadata": {
    "slideshow": {
     "slide_type": "fragment"
    }
   },
   "source": [
    "* How can I create a program, so I store one number for every word?"
   ]
  },
  {
   "cell_type": "markdown",
   "metadata": {
    "slideshow": {
     "slide_type": "subslide"
    }
   },
   "source": [
    "## Part 2: Finding names\n",
    "\n",
    "* Again: split it into subproblems\n",
    "  * What does it mean that a string is a name?"
   ]
  },
  {
   "cell_type": "markdown",
   "metadata": {
    "slideshow": {
     "slide_type": "subslide"
    }
   },
   "source": [
    "## Part 3: Nested loops\n",
    "\n",
    "* Having a list of lists:\n",
    "```\n",
    "..OO.OO..\n",
    ".OOOOOOO.\n",
    ".OOOOOOO.\n",
    "..OOOOO..\n",
    "...OOO...\n",
    "....O....\n",
    "```"
   ]
  },
  {
   "cell_type": "markdown",
   "metadata": {
    "slideshow": {
     "slide_type": "subslide"
    }
   },
   "source": [
    "### Solution 1\n",
    "\n",
    "```python\n",
    "newString = ''\n",
    "\n",
    "for i in range(len(grid)):\n",
    "    newString += str(grid[i][0])\n",
    "\n",
    "newString1 = '\\n'\n",
    "for i in range(len(grid)):\n",
    "    newString1 += str(grid[i][1])\n",
    "\n",
    "newString2 = '\\n'\n",
    "for i in range(len(grid)):\n",
    "    newString2 += str(grid[i][2])\n",
    "\n",
    "newString3 = '\\n'\n",
    "for i in range(len(grid)):\n",
    "    newString3 += str(grid[i][3])\n",
    "\n",
    "newString4 = '\\n'\n",
    "for i in range(len(grid)):\n",
    "    newString4 += str(grid[i][4])\n",
    "\n",
    "newString5 = '\\n'\n",
    "for i in range(len(grid)):\n",
    "    newString5 += str(grid[i][5])\n",
    "```"
   ]
  },
  {
   "cell_type": "markdown",
   "metadata": {
    "slideshow": {
     "slide_type": "subslide"
    }
   },
   "source": [
    "### Solution 2\n",
    "\n",
    "```python\n",
    "def print_grid(grid_2d):\n",
    "    for y in range(len(grid[0])):\n",
    "        for x in range(len(grid)):\n",
    "            print(grid[x][y], end='')\n",
    "        print()\n",
    "```"
   ]
  }
 ],
 "metadata": {
  "celltoolbar": "Slideshow",
  "kernelspec": {
   "display_name": "Python 3",
   "language": "python",
   "name": "python3"
  },
  "language_info": {
   "codemirror_mode": {
    "name": "ipython",
    "version": 3
   },
   "file_extension": ".py",
   "mimetype": "text/x-python",
   "name": "python",
   "nbconvert_exporter": "python",
   "pygments_lexer": "ipython3",
   "version": "3.6.3"
  }
 },
 "nbformat": 4,
 "nbformat_minor": 2
}
